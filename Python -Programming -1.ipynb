{
 "cells": [
  {
   "cell_type": "markdown",
   "id": "36e06286",
   "metadata": {},
   "source": [
    "## Basic Python Questions"
   ]
  },
  {
   "cell_type": "markdown",
   "id": "864a616e",
   "metadata": {},
   "source": [
    "1.\tWrite a Python program to print \"Hello Python\"?\n",
    "2.\tWrite a Python program to do arithmetical operations addition and division.?\n",
    "3.\tWrite a Python program to find the area of a triangle?\n",
    "4.\tWrite a Python program to swap two variables?\n",
    "5.\tWrite a Python program to generate a random number?\n"
   ]
  },
  {
   "cell_type": "markdown",
   "id": "03978b5b",
   "metadata": {},
   "source": [
    "### 1.Write a Python program to print \"Hello Python\"?"
   ]
  },
  {
   "cell_type": "code",
   "execution_count": 5,
   "id": "a4814494",
   "metadata": {},
   "outputs": [
    {
     "name": "stdout",
     "output_type": "stream",
     "text": [
      "Hello Python\n"
     ]
    }
   ],
   "source": [
    "print(\"Hello Python\")"
   ]
  },
  {
   "cell_type": "markdown",
   "id": "5af252d8",
   "metadata": {},
   "source": [
    "### 2.Write a Python program to do arithmetical operations addition and division.?"
   ]
  },
  {
   "cell_type": "code",
   "execution_count": 7,
   "id": "cc94c2dc",
   "metadata": {},
   "outputs": [],
   "source": [
    "def num(m,n):\n",
    "    print(\"Arithmetical Operations\")\n",
    "    print(\"Addition of given numbers :\",m+n)\n",
    "    print(\"Division of given numbers:\",m/n)"
   ]
  },
  {
   "cell_type": "code",
   "execution_count": 8,
   "id": "c4f49d7b",
   "metadata": {},
   "outputs": [
    {
     "name": "stdout",
     "output_type": "stream",
     "text": [
      "Arithmetical Operations\n",
      "Addition of given numbers : 15\n",
      "Division of given numbers: 2.0\n"
     ]
    }
   ],
   "source": [
    "num(10,5)"
   ]
  },
  {
   "cell_type": "markdown",
   "id": "c6e40c63",
   "metadata": {},
   "source": [
    "### 3.Write a Python program to find the area of a triangle?"
   ]
  },
  {
   "cell_type": "code",
   "execution_count": 38,
   "id": "be20d6c1",
   "metadata": {},
   "outputs": [
    {
     "name": "stdout",
     "output_type": "stream",
     "text": [
      "The area of the triangle is 14.70\n"
     ]
    }
   ],
   "source": [
    "\n",
    "a = 5\n",
    "b = 6\n",
    "c = 7\n",
    "\n",
    "s = (a + b + c) / 2\n",
    "area = (s*(s-a)*(s-b)*(s-c)) ** 0.5\n",
    "\n",
    "print('The area of the triangle is %0.2f' %area)\n"
   ]
  },
  {
   "cell_type": "markdown",
   "id": "55947b45",
   "metadata": {},
   "source": [
    "### 4.Write a Python program to swap two variables?"
   ]
  },
  {
   "cell_type": "code",
   "execution_count": 29,
   "id": "b02f3237",
   "metadata": {},
   "outputs": [
    {
     "name": "stdout",
     "output_type": "stream",
     "text": [
      "Enter the first nuumber: 4\n",
      "Enter the second number: 7\n",
      "The first number 7\n",
      "The second number 4\n"
     ]
    }
   ],
   "source": [
    "a=int(input(\"Enter the first nuumber: \"))\n",
    "b=int(input(\"Enter the second number: \"))\n",
    "\n",
    "swap = a\n",
    "a=b\n",
    "b=swap\n",
    "\n",
    "print(\"The first number {}\".format(a))\n",
    "print(\"The second number {}\".format(b))"
   ]
  },
  {
   "cell_type": "markdown",
   "id": "cb350dc0",
   "metadata": {},
   "source": [
    "### 5.Write a Python program to generate a random number?"
   ]
  },
  {
   "cell_type": "code",
   "execution_count": 30,
   "id": "f5b72ffe",
   "metadata": {},
   "outputs": [],
   "source": [
    "import numpy as np"
   ]
  },
  {
   "cell_type": "code",
   "execution_count": 36,
   "id": "55ca6d07",
   "metadata": {},
   "outputs": [
    {
     "data": {
      "text/plain": [
       "0.9188716558983356"
      ]
     },
     "execution_count": 36,
     "metadata": {},
     "output_type": "execute_result"
    }
   ],
   "source": [
    "np.random.randn()"
   ]
  },
  {
   "cell_type": "markdown",
   "id": "a187ec95",
   "metadata": {},
   "source": [
    "#  *****THE END*****"
   ]
  }
 ],
 "metadata": {
  "kernelspec": {
   "display_name": "Python 3 (ipykernel)",
   "language": "python",
   "name": "python3"
  },
  "language_info": {
   "codemirror_mode": {
    "name": "ipython",
    "version": 3
   },
   "file_extension": ".py",
   "mimetype": "text/x-python",
   "name": "python",
   "nbconvert_exporter": "python",
   "pygments_lexer": "ipython3",
   "version": "3.9.12"
  }
 },
 "nbformat": 4,
 "nbformat_minor": 5
}
