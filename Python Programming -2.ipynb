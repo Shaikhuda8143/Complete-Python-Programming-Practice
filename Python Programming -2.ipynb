{
 "cells": [
  {
   "cell_type": "markdown",
   "id": "dba6a466",
   "metadata": {},
   "source": [
    "## Basic Python Questions"
   ]
  },
  {
   "cell_type": "markdown",
   "id": "75476f95",
   "metadata": {},
   "source": [
    "1.\tWrite a Python program to convert kilometers to miles?\n",
    "2.\tWrite a Python program to convert Celsius to Fahrenheit?\n",
    "3.\tWrite a Python program to display calendar?\n",
    "4.\tWrite a Python program to solve quadratic equation?\n",
    "5.\tWrite a Python program to swap two variables without temp variable?\n",
    "\n"
   ]
  },
  {
   "cell_type": "markdown",
   "id": "ea4ef4c8",
   "metadata": {},
   "source": [
    "### 1. Write a Python Program to convert kilometers to miles?"
   ]
  },
  {
   "cell_type": "code",
   "execution_count": 3,
   "id": "952afd4e",
   "metadata": {},
   "outputs": [
    {
     "name": "stdout",
     "output_type": "stream",
     "text": [
      "Enter the Km :4.2\n",
      "4.2 Kilometers is equal to : 2.6097589979999998\n"
     ]
    }
   ],
   "source": [
    "#1 km = 0.62137119 miles\n",
    "km= float(input(\"Enter the Km :\"))\n",
    "print(km, \"Kilometers is equal to :\",km*0.62137119)"
   ]
  },
  {
   "cell_type": "markdown",
   "id": "651e3f12",
   "metadata": {},
   "source": [
    "### 2. Write a Python program to convert Celsius to Fahrenheit?"
   ]
  },
  {
   "cell_type": "code",
   "execution_count": 4,
   "id": "e8c46c7c",
   "metadata": {},
   "outputs": [
    {
     "name": "stdout",
     "output_type": "stream",
     "text": [
      "Enter the Celsius :8\n",
      "8.0 Celsius is equal to : 46.4\n"
     ]
    }
   ],
   "source": [
    "# 1 Celsius = 33.8 Farenheit\n",
    "Cels = float(input(\"Enter the Celsius :\"))\n",
    "print(Cels, \"Celsius is equal to :\", Cels*1.8+32)"
   ]
  },
  {
   "cell_type": "markdown",
   "id": "183d64d4",
   "metadata": {},
   "source": [
    "### 3. Write a Python program to display calender?"
   ]
  },
  {
   "cell_type": "code",
   "execution_count": 15,
   "id": "70ac0caf",
   "metadata": {},
   "outputs": [
    {
     "name": "stdout",
     "output_type": "stream",
     "text": [
      "Enter a Year:2022\n",
      "Enter a Month:11\n",
      "   November 2022\n",
      "Mo Tu We Th Fr Sa Su\n",
      "    1  2  3  4  5  6\n",
      " 7  8  9 10 11 12 13\n",
      "14 15 16 17 18 19 20\n",
      "21 22 23 24 25 26 27\n",
      "28 29 30\n",
      "\n"
     ]
    }
   ],
   "source": [
    "import calendar\n",
    "yy = int(input(\"Enter a Year:\"))\n",
    "mm= int(input(\"Enter a Month:\"))\n",
    "\n",
    "print(calendar.month(yy,mm))"
   ]
  },
  {
   "cell_type": "markdown",
   "id": "27fbd298",
   "metadata": {},
   "source": [
    "### 4. Write a Python program to solve quadratic equation?"
   ]
  },
  {
   "cell_type": "code",
   "execution_count": 5,
   "id": "2587ace0",
   "metadata": {},
   "outputs": [],
   "source": [
    "import cmath"
   ]
  },
  {
   "cell_type": "code",
   "execution_count": 10,
   "id": "6454b51e",
   "metadata": {},
   "outputs": [],
   "source": [
    "def quadratic(a,b,c):\n",
    "    d=(b**2)- (4*a*c)\n",
    "    sol1 = -b + cmath.sqrt(d)/2*a\n",
    "    sol2 = -b - cmath.sqrt(d)/2*a\n",
    "    print(\"The solutions are:\", sol1,sol2)"
   ]
  },
  {
   "cell_type": "code",
   "execution_count": 15,
   "id": "b3ac02b1",
   "metadata": {},
   "outputs": [
    {
     "name": "stdout",
     "output_type": "stream",
     "text": [
      "The solutions are: (-2+3.775711853412546j) (-2-3.775711853412546j)\n"
     ]
    }
   ],
   "source": [
    "quadratic(1.8,2,3)"
   ]
  },
  {
   "cell_type": "markdown",
   "id": "313b43cf",
   "metadata": {},
   "source": [
    "### 5. Write a Python program to swap two variables without temp variable?"
   ]
  },
  {
   "cell_type": "code",
   "execution_count": 16,
   "id": "c102e4ea",
   "metadata": {},
   "outputs": [
    {
     "name": "stdout",
     "output_type": "stream",
     "text": [
      " please enter the first number to swap3\n",
      "please enter the second number to swap5\n",
      "first number after swap 5 second number after swap 3\n"
     ]
    }
   ],
   "source": [
    "first_number = int(input(\" please enter the first number to swap\"))\n",
    "second_number = int(input(\"please enter the second number to swap\"))\n",
    "##swapping witout tmp variable \n",
    "first_number ,second_number = second_number , first_number\n",
    "print(\"first number after swap\",first_number, \"second number after swap\",second_number )"
   ]
  },
  {
   "cell_type": "code",
   "execution_count": null,
   "id": "9153336a",
   "metadata": {},
   "outputs": [],
   "source": []
  }
 ],
 "metadata": {
  "kernelspec": {
   "display_name": "Python 3 (ipykernel)",
   "language": "python",
   "name": "python3"
  },
  "language_info": {
   "codemirror_mode": {
    "name": "ipython",
    "version": 3
   },
   "file_extension": ".py",
   "mimetype": "text/x-python",
   "name": "python",
   "nbconvert_exporter": "python",
   "pygments_lexer": "ipython3",
   "version": "3.9.12"
  }
 },
 "nbformat": 4,
 "nbformat_minor": 5
}
